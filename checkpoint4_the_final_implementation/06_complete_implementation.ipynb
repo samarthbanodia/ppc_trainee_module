{
 "cells": [
  {
   "cell_type": "markdown",
   "metadata": {},
   "source": [
    "# Full Animation: PID Throttle Control and Stanley Steering\n",
    "\n",
    "In this exercise, you will be developing a complete animation of an autonomous car that utilizes **PID control** for throttle and **Stanley control** for steering. You'll implement the missing pieces of the code and adjust parameters to improve performance.\n",
    "\n",
    "Basically we are gonna combine everything learnt till now to create a full working animation of how the car will run on the track.\n",
    "\n",
    "We started by getting cone positions, we then got waypoints and interpolated them. We then optimised them. \n",
    "\n",
    "Now that we have the optimised path, we will use our knowledge of PID control and Stanley steering to race the car on the track!\n",
    "\n",
    "A very simple point mass model has been implemented as the car for initial testing.\n",
    "\n",
    "## Objectives:\n",
    "1. Implement **PID throttle control** to maintain a desired speed.\n",
    "2. Implement **Stanley steering** to follow a predefined path.\n",
    "3. Tune the Stanley controller to achieve better path tracking.\n",
    "4. Visualize the system's behavior using an animation.\n",
    "\n"
   ]
  },
  {
   "cell_type": "code",
   "execution_count": 2,
   "metadata": {},
   "outputs": [],
   "source": [
    "import numpy as np\n",
    "import matplotlib.pyplot as plt\n",
    "from matplotlib import animation"
   ]
  },
  {
   "cell_type": "markdown",
   "metadata": {},
   "source": [
    "Initially to get started load the map(waypoints) and plot to see the path you are trying to traverse\n",
    "\n",
    "\n",
    "Add the Cones for Visualisation to make the animation look prettier\n",
    "\n",
    "\n",
    "You can find all these files in the 'Checkpoint 4' folder"
   ]
  },
  {
   "cell_type": "code",
   "execution_count": null,
   "metadata": {},
   "outputs": [],
   "source": [
    "\n",
    "waypoints = np.load('waypoints.npy')\n",
    "# This is the map which was obtained from optimising the waypoints\n",
    "\n",
    "plt.plot(waypoints[:,0], waypoints[:,1], 'k--', label=\"Track\")\n",
    "plt.axis(\"equal\")\n",
    "plt.title(\"Waypoints\")\n",
    "plt.legend()\n",
    "plt.grid()\n",
    "plt.show()"
   ]
  },
  {
   "cell_type": "markdown",
   "metadata": {},
   "source": [
    "#### Implement the car model\n",
    "Currently the skeleton code has a kinematic bicylce model already implemented for you :)\n",
    "\n",
    "##### Bonus:\n",
    "\n",
    "After you implement the whole animation using this model you can try to implement the dynamic bicycle model you learned in AISD module"
   ]
  },
  {
   "cell_type": "code",
   "execution_count": 25,
   "metadata": {},
   "outputs": [],
   "source": [
    "class Vehicle:\n",
    "    def __init__(self, x=0, y=0, yaw=0 , v=0.0, L=2.5):  # Initial position, yaw, velocity, and wheelbase\n",
    "\n",
    "        self.x = x              #  IMP ! : Change the initial pose of the car to determine the starting position\n",
    "        self.y = y  \n",
    "        self.yaw = yaw\n",
    "        self.v = v\n",
    "        self.L = L  # Wheelbase\n",
    "\n",
    "    def update(self, throttle, delta, dt=0.1):\n",
    "        self.x += self.v * np.cos(self.yaw) * dt\n",
    "        self.y += self.v * np.sin(self.yaw) * dt\n",
    "        self.yaw += self.v / self.L * np.tan(delta) * dt\n",
    "        self.v += throttle * dt\n",
    "        self.v = max(0.0, self.v)  # No reverse\n"
   ]
  },
  {
   "cell_type": "markdown",
   "metadata": {},
   "source": [
    "### Implement Throttle and Steering control\n",
    " - Implement a PID controller for throttle to follow the velocity profile you created earlier\n",
    " - Implement the stanley controller function you created in the previous notebook for steering control\n",
    " - You will have to add these control functions in the utilities and then import them here to use them "
   ]
  },
  {
   "cell_type": "code",
   "execution_count": 26,
   "metadata": {},
   "outputs": [],
   "source": [
    "def compute_control(vehicle, waypoints, last_target_idx, k=5.0, k_soft=1e-2):\n",
    "    \"\"\"\n",
    "\n",
    "    Args:\n",
    "        vehicle: Vehicle object\n",
    "        waypoints: Nx2 array\n",
    "        last_target_idx: previously selected waypoint index\n",
    "        k: control gain for Stanley\n",
    "        k_soft: softening term to avoid division by zero\n",
    "\n",
    "    Returns:\n",
    "        throttle: float\n",
    "        steer: float\n",
    "        target_idx: int\n",
    "    \"\"\"\n",
    "    \n",
    "\n",
    "    # Limit steering to realistic bounds\n",
    "    max_steer = np.radians(30)\n",
    "    steer = # use imported stanley function here\n",
    "\n",
    "    # Throttle control (simple proportional control or replace with PID)\n",
    "    target_v = 10.0  # Target velocity You can change this velocity as per need\n",
    "\n",
    "    # You must keep in mind that different target velocities will require retuning the steering gains\n",
    "\n",
    "    throttle = # Make a pid function in utility.py and use it here\n",
    "\n",
    "    return throttle, steer, target_idx\n"
   ]
  },
  {
   "cell_type": "code",
   "execution_count": null,
   "metadata": {},
   "outputs": [],
   "source": [
    "\n",
    "vehicle = Vehicle()\n",
    "history = {'x': [], 'y': []}\n",
    "target_idx = 0\n",
    "\n",
    "fig, ax = plt.subplots(figsize=(6,6))\n",
    "# ax.set_xlim(-12, 12)\n",
    "# ax.set_ylim(-12, 12)\n",
    "track_line, = ax.plot(waypoints[:,0], waypoints[:,1], 'k--')\n",
    "car_dot, = ax.plot([], [], 'bo', markersize=6)\n",
    "path_line, = ax.plot([], [], 'b-', linewidth=1)\n",
    "\n",
    "def init():\n",
    "    car_dot.set_data([], [])\n",
    "    path_line.set_data([], [])\n",
    "    return car_dot, path_line\n",
    "\n",
    "def animate(i):\n",
    "    global target_idx\n",
    "    throttle, steer, target_idx = compute_control(vehicle, waypoints, target_idx)\n",
    "    vehicle.update(throttle, steer)\n",
    "\n",
    "    history['x'].append(vehicle.x)\n",
    "    history['y'].append(vehicle.y)\n",
    "\n",
    "    car_dot.set_data(vehicle.x, vehicle.y)\n",
    "    path_line.set_data(history['x'], history['y'])\n",
    "    return car_dot, path_line\n",
    "\n",
    "ani = animation.FuncAnimation(fig, animate, init_func=init,\n",
    "                              frames=300, interval=50, blit=True)\n",
    "plt.close()  # Prevent double display in some notebooks\n",
    "\n",
    "from IPython.display import HTML\n",
    "HTML(ani.to_jshtml())\n"
   ]
  }
 ],
 "metadata": {
  "kernelspec": {
   "display_name": "Python 3",
   "language": "python",
   "name": "python3"
  },
  "language_info": {
   "codemirror_mode": {
    "name": "ipython",
    "version": 3
   },
   "file_extension": ".py",
   "mimetype": "text/x-python",
   "name": "python",
   "nbconvert_exporter": "python",
   "pygments_lexer": "ipython3",
   "version": "3.10.12"
  }
 },
 "nbformat": 4,
 "nbformat_minor": 2
}
