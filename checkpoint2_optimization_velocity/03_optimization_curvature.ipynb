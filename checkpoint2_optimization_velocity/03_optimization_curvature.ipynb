{
 "cells": [
  {
   "cell_type": "markdown",
   "metadata": {},
   "source": [
    "### 📈 Curvature Optimization\n",
    "\n",
    "Once the spline is built:\n",
    "- You must **replace the assumed boundary conditions** (like natural spline: second derivative = 0 at endpoints).\n",
    "- Your goal is to **optimize** the spline such that the **total curvature is minimized**.\n",
    "- This will result in a **smoother path**—which is desirable for autonomous vehicle trajectory planning.\n",
    "\n",
    "\n",
    "### 🔍 What does Optimization mean here?\n",
    "There are 3 parts to an optimization problem:\n",
    "- Objective (or Cost) Function :\n",
    "This is the function you want to minimize or maximize.\n",
    "- Parameters (or Decision Variables):\n",
    "These are the variables you are allowed to change in order to achieve the best value of the objective.\n",
    "- Constraints:\n",
    "These are the rules or limits that the parameters and/or the solution must satisfy.\n",
    "In general, optimization means adjusting parameters to minimize or maximize an objective — like reducing cost, increasing speed, or in our case: minimizing curvature.\n",
    "\n",
    "Here, you are given 4 fixed waypoints. Your goal is to interpolate these points using cubic splines, but with a twist:\n",
    "\n",
    "refer to the first 3 videos of the following playlist for a better understanding:\n",
    "[Video: Introduction to Curve Optimization](https://youtube.com/playlist?list=PLLK3oSbvdxFdF67yVxF_1FQO9SbBY3yTL&si=EMnkQ3Gb_EleDISu)\n",
    "\n",
    "---\n",
    "## 🎯 PROBLEM STATEMENT\n",
    "You are given 4 discrete waypoints from the previous section. Your task is to interpolate these points using **cubic spline interpolation**, but with a focus on **optimizing the shape of the curve**.\n",
    "\n",
    "Essentially, you are required to **minimize the total curvature** of the resulting spline by **varying the second derivative values at the boundaries**. This should be done **without using inbuilt spline functions** from libraries such as `scipy`. The goal is to find the **smoothest possible path** through the points, which would represent the **ideal trajectory** for a vehicle to follow. You may choose suitable bounds for the second derivative values and iterate through different combinations of boundary conditions to determine the configuration that leads to the **minimum total curvature**.\n",
    "\n",
    "---\n",
    "\n",
    "## Curvature Formula\n",
    "\n",
    "The **curvature** $\\kappa(t)$ of a 2D parametric curve $(x(t), y(t))$ is given by:\n",
    "\n",
    "$$\n",
    "\\kappa(t) = \\frac{ |x'(t)y''(t) - y'(t)x''(t)| }{ \\left( (x'(t))^2 + (y'(t))^2 \\right)^{3/2} }\n",
    "$$\n",
    "\n",
    "Where:\n",
    "- $x'(t)$ and $y'(t)$ are the **first derivatives** with respect to the parameter $t$\n",
    "- $x''(t)$ and $y''(t)$ are the **second derivatives**\n",
    "\n",
    "---\n",
    "\n",
    "## 📌 Deliverables\n",
    "\n",
    "1. Your own implementation of cubic spline interpolation.\n",
    "2. Plots of:\n",
    "   - Original points\n",
    "   - Interpolated spline without optimization\n",
    "   - Interpolated spline with optimization\n",
    "---\n",
    "\n",
    "### 🌟 Optional Assignement\n",
    "\n",
    "You may notice that directly finding the smoothest curve through waypoints seems inefficient and computationally expensive. Fortunately, mathematicians have developed robust optimization techniques that are readily available through libraries like `scipy.optimize`.\n",
    "\n",
    "In this task, try enhancing the **cubic interpolation curve** you obtained earlier by finding an **optimal trajectory through the waypoints** — one that minimizes the curvature at every interpolated point. To do this, you can treat the **second derivatives at the curve’s boundaries** as variables to be optimized. Use `scipy` functions to perform this optimization and compare the resulting smooth curve to the original interpolation.\n",
    "\n",
    "However, you may not notice an appreciable reduction in sharpness and a smoother, more natural path. What else can be done then for the **optimal raceline** for our car?\n",
    "\n",
    "---\n",
    "\n",
    "**Good luck!**  Let the paths be smooth and the math be satisfying!"
   ]
  },
  {
   "cell_type": "code",
   "execution_count": null,
   "metadata": {
    "vscode": {
     "languageId": "plaintext"
    }
   },
   "outputs": [],
   "source": []
  }
 ],
 "metadata": {
  "language_info": {
   "name": "python"
  }
 },
 "nbformat": 4,
 "nbformat_minor": 2
}
