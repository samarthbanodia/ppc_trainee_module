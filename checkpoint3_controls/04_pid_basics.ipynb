{
 "cells": [
  {
   "cell_type": "markdown",
   "metadata": {
    "vscode": {
     "languageId": "plaintext"
    }
   },
   "source": [
    "# PID Control \n",
    "\n",
    "You'll learn how a PID (Proportional-Integral-Derivative) controller works, write your own controller, and tune its parameters interactively.\n",
    "\n",
    "---\n",
    "\n",
    "## What is a PID Controller?\n",
    "\n",
    "A PID controller calculates an error value as the difference between a desired setpoint and a measured process variable.\n",
    "\n",
    "**PID Formula**:\n",
    "$$\n",
    "u(t) = K_p e(t) + K_i \\int_0^t e(\\tau)d\\tau + K_d \\frac{de(t)}{dt}\n",
    "$$\n",
    "\n",
    "Where:\n",
    "- **Kp**: Proportional gain\n",
    "- **Ki**: Integral gain\n",
    "- **Kd**: Derivative gain\n",
    "- **e(t)**: Error = Setpoint - Current Value\n",
    "\n",
    "You’ll see how changing Kp, Ki, and Kd affects the system.\n"
   ]
  },
  {
   "cell_type": "markdown",
   "metadata": {},
   "source": [
    "# Resources\n",
    "You must watch at least the fist 4 videos of this Youtube playlist\n",
    "\n",
    "https://www.youtube.com/playlist?list=PLn8PRpmsu08pQBgjxYFXSsODEF3Jqmm-y"
   ]
  },
  {
   "cell_type": "markdown",
   "metadata": {},
   "source": [
    "# Instructions\n",
    "\n",
    "- The code provided is to implement PID control on the thrust of a drone to make it reach a target height.\n",
    "\n",
    "- There are incomplete code blocks and statements in the notebook which you must complete.\n",
    "\n",
    "- You are expected to watch the videos provided and NOT refer to chatgpt for this checkpoint as it is not required.\n",
    "\n",
    "- The goal of this assignment is to understand how a pid controller works intuitively and see how each term affects your controller.\n",
    "\n",
    "- The code will work properly only if the missing code blocks are correctly filled"
   ]
  },
  {
   "cell_type": "code",
   "execution_count": null,
   "metadata": {},
   "outputs": [],
   "source": [
    "import numpy as np\n",
    "import matplotlib.pyplot as plt\n",
    "import matplotlib.animation as animation\n",
    "from IPython.display import HTML\n",
    "\n",
    "class Drone:\n",
    "    def __init__(self):\n",
    "        self.height = 0.0\n",
    "        self.velocity = 0.0\n",
    "\n",
    "    def update(self, thrust, dt):\n",
    "        gravity = -9.81    \n",
    "        mass = 1.0\n",
    "        acceleration = (thrust / mass) + gravity\n",
    "        self.velocity += acceleration * dt\n",
    "        self.height += self.velocity * dt\n",
    "        return self.height\n",
    "\n",
    "class PIDController:\n",
    "    def __init__(self, Kp, Ki, Kd):\n",
    "        self.Kp = Kp\n",
    "        self.Ki = Ki\n",
    "        self.Kd = Kd\n",
    "        # you might need to add more variables here... hint: for Integral controller\n",
    "\n",
    "    def update(self, error, dt):\n",
    "        '''\n",
    "        write the update function on your own\n",
    "        input is error and dt\n",
    "        output should be the thrust that is provided to drone\n",
    "        '''\n",
    "        pass\n"
   ]
  },
  {
   "cell_type": "code",
   "execution_count": null,
   "metadata": {},
   "outputs": [],
   "source": [
    "'''\n",
    "Start with a P controller, then PD, then PI, and then PID, by trial and error\n",
    "Your aim here is to tune the controller such that there is minimal overshoot and oscillations\n",
    "'''\n",
    "Kp = 1.0    #proportional constant\n",
    "Ki = 0.0    #integral constant\n",
    "Kd = 0.0    #derivative constant\n",
    "\n",
    "target_height = 10.0    # target height of drone\n",
    "sim_time = 10    # increase this if you want the animation to be longer\n",
    "dt = 0.05\n",
    "steps = int(sim_time / dt)\n"
   ]
  },
  {
   "cell_type": "code",
   "execution_count": null,
   "metadata": {},
   "outputs": [],
   "source": [
    "drone = Drone()\n",
    "pid = PIDController(Kp, Ki, Kd)\n",
    "\n",
    "heights = []\n",
    "times = []\n",
    "\n",
    "for i in range(steps):\n",
    "    t = i * dt\n",
    "\n",
    "    error =  # What should be the error?\n",
    "\n",
    "    thrust = pid.update(error, dt)\n",
    "    h = drone.update(thrust, dt)\n",
    "    times.append(t)\n",
    "    heights.append(h)\n"
   ]
  },
  {
   "cell_type": "code",
   "execution_count": null,
   "metadata": {},
   "outputs": [],
   "source": [
    "fig, ax = plt.subplots(figsize=(4, 6))\n",
    "ax.set_xlim(-1, 1)\n",
    "ax.set_ylim(0, 15)   # increase the 2nd argument of ylim if you wanna see further above the setpoint\n",
    "ax.set_xlabel(\"Drone\")\n",
    "ax.set_ylabel(\"Height (m)\")\n",
    "ax.set_title(\"Drone Height Stabilization (PID Control)\")\n",
    "\n",
    "drone_body, = ax.plot([], [], 'bo', markersize=15)\n",
    "target_line = ax.axhline(y=target_height, color='r', linestyle='--', label='Target Height')\n",
    "ax.legend()\n",
    "\n",
    "def init():\n",
    "    drone_body.set_data([], [])\n",
    "    return drone_body,\n",
    "\n",
    "def update(frame):\n",
    "    x = 0\n",
    "    y = heights[frame]\n",
    "    drone_body.set_data(x, y)\n",
    "    return drone_body,\n",
    "\n",
    "ani = animation.FuncAnimation(\n",
    "    fig, update, frames=len(heights), init_func=init,\n",
    "    interval=dt*800, blit=True\n",
    ")\n",
    "\n",
    "plt.close(fig)\n",
    "HTML(ani.to_jshtml())\n"
   ]
  }
 ],
 "metadata": {
  "kernelspec": {
   "display_name": "Python 3",
   "language": "python",
   "name": "python3"
  },
  "language_info": {
   "codemirror_mode": {
    "name": "ipython",
    "version": 3
   },
   "file_extension": ".py",
   "mimetype": "text/x-python",
   "name": "python",
   "nbconvert_exporter": "python",
   "pygments_lexer": "ipython3",
   "version": "3.10.12"
  }
 },
 "nbformat": 4,
 "nbformat_minor": 2
}
