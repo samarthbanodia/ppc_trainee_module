{
 "cells": [
  {
   "cell_type": "markdown",
   "metadata": {},
   "source": [
    "## Assignment Task: Path Interpolation and Visualization\n",
    "\n",
    "In this exercise, you are provided with a CSV file named `loop_track_waypoints.csv`, which contains a sequence of indexed 2D waypoints that form a closed-loop track. Your task is to interpolate these waypoints to generate a smooth continuous path and visualize the resulting curve.\n",
    "\n",
    "### Dataset Description\n",
    "\n",
    "The CSV file contains the following columns:\n",
    "\n",
    "- `Index`: An integer representing the order of the waypoint.\n",
    "- `x`: The x-coordinate of the waypoint (in meters).\n",
    "- `y`: The y-coordinate of the waypoint (in meters).\n",
    "\n",
    "The track is closed, i.e., the final waypoint coincides with the starting point to form a loop.\n",
    "\n",
    "### Objectives\n",
    "\n",
    "1. **Read** the CSV file using an appropriate data processing library such as `pandas`.\n",
    "2. **Perform interpolation** over the waypoints using a method of your choice (e.g., `scipy.interpolate` or spline interpolation).\n",
    "3. **Visualize** both the original discrete waypoints and the resulting smooth curve on the same plot for comparison.\n",
    "4. Ensure the interpolated path **preserves the closed-loop nature** of the track.\n",
    "\n",
    "### Recommended Libraries\n",
    "\n",
    "You may use the following libraries:\n",
    "- `pandas` for reading the CSV file.\n",
    "- `matplotlib` or `plotly` for visualization.\n",
    "- `scipy.interpolate` (e.g., `splprep` and `splev`) or `interp1d` for interpolation.\n",
    "\n",
    "### 📌 Instructions\n",
    "\n",
    "- Ensure that the file `loop_track_waypoints.csv` is placed in the **same directory** as this notebook.\n",
    "- Label your axes and add a legend to your plot.\n",
    "- Comment your code appropriately to explain the logic and steps used.\n",
    "- Try using both linear and spline-based interpolation methods if time permits.\n"
   ]
  },
  {
   "cell_type": "code",
   "execution_count": null,
   "metadata": {
    "vscode": {
     "languageId": "plaintext"
    }
   },
   "outputs": [],
   "source": []
  }
 ],
 "metadata": {
  "language_info": {
   "name": "python"
  }
 },
 "nbformat": 4,
 "nbformat_minor": 2
}
