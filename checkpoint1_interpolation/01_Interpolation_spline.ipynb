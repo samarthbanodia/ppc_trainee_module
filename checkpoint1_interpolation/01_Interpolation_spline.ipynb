{
 "cells": [
  {
   "cell_type": "markdown",
   "metadata": {},
   "source": [
    "# 🚗 Path Planning – Interpolating Discrete Points\n",
    "\n",
    "This is where the actual task of **planning a path** begins.\n",
    "\n",
    "In the real world, we rarely have access to a **continuous set of paths**.  \n",
    "Instead, we deal with a **limited number of discrete points**, such as waypoints from cone detections or sensor outputs.\n",
    "\n",
    "Our job is to **connect these discrete points** and generate a smooth and feasible trajectory that the vehicle can follow.\n",
    "\n",
    "---\n",
    "\n",
    "## Why Do We Need Interpolation?\n",
    "\n",
    "Since we cannot drive through isolated points, we must **\"connect the dots\"** to create a **continuous path**.  \n",
    "There are different methods for this, and choosing the right one depends on the trade-offs between:\n",
    "- Accuracy\n",
    "- Smoothness\n",
    "- Computation time\n",
    "- Real-time feasibility\n",
    "\n",
    "You are encouraged to **explore** these topics online and understand them deeply.  \n",
    "Your final goal is to **optimize the path**, so analyze each method’s **advantages and disadvantages**.\n",
    "\n",
    "---\n",
    "\n",
    "## Suggested Resources\n",
    "\n",
    "### A) Linear and Quadratic Spline Interpolation\n",
    "- [Linear & Quadratic Spline Intuition](https://www.youtube.com/watch?v=KLUr1A6vyzs)\n",
    "- [Quadratic Interpolation Explanation](https://www.youtube.com/watch?v=j_jBK7zJ1vU)\n",
    "- [Quadratic Spline Derivation](https://www.youtube.com/watch?v=kCPMph3cPA8)\n",
    "\n",
    "### B) Cubic and Higher-Degree Spline Interpolation\n",
    "- [Cubic Spline Derivation](https://www.youtube.com/watch?v=wMMjF7kXnWA)\n",
    "- [Cubic Spline Example](https://www.youtube.com/watch?v=gT7F3TWihvk)\n",
    "\n",
    "> Try solving the example problem yourself before watching the solution.  \n",
    "> Now imagine scaling that to **hundreds of points** in real-time path planning!\n",
    "\n",
    "---\n",
    "\n",
    "## Assignment\n",
    "\n",
    "## You are given **four discrete points** in increasing order of x:  \n",
    "`(x₁, y₁), (x₂, y₂), (x₃, y₃), (x₄, y₄)`\n",
    "\n",
    "Your task is to:\n",
    "- **Interpolate these points using Cubic Spline Interpolation**\n",
    "- **Plot the path obtained.**\n",
    "- **Do NOT use direct library interpolation functions**\n",
    "    - You can look up source code online for understanding.\n",
    "    - But make sure you know **exactly what the code is doing**, step by step.\n",
    "\n",
    "---\n",
    "\n",
    "## What to Submit\n",
    "\n",
    "- Your coded solution (with explanation)\n",
    "- Analysis of cubic splines vs other interpolation methods\n",
    "    - Think about smoothness, accuracy, computational cost, and usability in real-time systems\n",
    "\n",
    "Happy Coding & Exploring!"
   ]
  },
  {
   "cell_type": "markdown",
   "metadata": {},
   "source": [
    "## 🌟 Optional Assignment\n",
    "\n",
    "Once you're done with the 4-point cubic spline:\n",
    "\n",
    "Try writing your **own generic cubic spline interpolation** code for **any number of points (n ≥ 4) taken as input**.\n",
    "\n",
    "- Again, **do not use `scipy`, `numpy.interp`, or any built-in spline functions**.\n",
    "- Construct and solve the system of equations manually (or using matrix operations) based on the cubic spline conditions.\n",
    "\n",
    "This will give you an appreciation of the complexity behind interpolation libraries — and how they are optimized.\n"
   ]
  },
  {
   "cell_type": "code",
   "execution_count": null,
   "metadata": {
    "vscode": {
     "languageId": "plaintext"
    }
   },
   "outputs": [],
   "source": []
  }
 ],
 "metadata": {
  "kernelspec": {
   "display_name": "Python 3",
   "language": "python",
   "name": "python3"
  },
  "language_info": {
   "codemirror_mode": {
    "name": "ipython",
    "version": 3
   },
   "file_extension": ".py",
   "mimetype": "text/x-python",
   "name": "python",
   "nbconvert_exporter": "python",
   "pygments_lexer": "ipython3",
   "version": "3.12.0"
  }
 },
 "nbformat": 4,
 "nbformat_minor": 2
}
